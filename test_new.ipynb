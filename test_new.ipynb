{
 "cells": [
  {
   "cell_type": "code",
   "execution_count": 1,
   "id": "0d264ee9-ad66-46df-8181-e3a81b5d3ab9",
   "metadata": {},
   "outputs": [],
   "source": [
    "import skbio\n",
    "import empress\n",
    "import unittest\n",
    "import pandas as pd"
   ]
  },
  {
   "cell_type": "code",
   "execution_count": 2,
   "id": "eb7e79b3-6713-4eb2-b7e3-52789b43573d",
   "metadata": {},
   "outputs": [],
   "source": [
    "df = skbio.TreeNode.read('85_otus.tree')"
   ]
  },
  {
   "cell_type": "code",
   "execution_count": 3,
   "id": "83684a49-52ca-43d3-aafa-76f33d68ed5e",
   "metadata": {},
   "outputs": [],
   "source": [
    "from skbio import TreeNode"
   ]
  },
  {
   "cell_type": "code",
   "execution_count": 4,
   "id": "a7da9b4a-88be-4b7e-a9d4-e2c3dda57097",
   "metadata": {},
   "outputs": [],
   "source": [
    "def treenode_to_dataframe(tree_node):\n",
    "    rows_for_dataframe = []\n",
    "    tree_node.assign_ids()\n",
    "    for node in tree_node.traverse(include_self = True):\n",
    "        '''\n",
    "        if node.parent == None:\n",
    "            parent_id = -1\n",
    "        else:\n",
    "            parent_id = node.parent\n",
    "\n",
    "        node_id = node.id\n",
    "        node_name = node.name\n",
    "        node_length = node.length\n",
    "\n",
    "        rows_for_dataframe.append({'parent':parent_id,'node':node_id,'name':node_name,'length':node_length})\n",
    "        '''\n",
    "        # if node.nazme == 'None':\n",
    "            \n",
    "        rows_for_dataframe.append({'parent':node.parent.id if node.parent is not None else -1,\"node\":node.id, 'name':node.name,'length':node.length})\n",
    "        # add in name of the node and edge length of the node\n",
    "    df = pd.DataFrame(rows_for_dataframe)\n",
    "    return df"
   ]
  },
  {
   "cell_type": "code",
   "execution_count": null,
   "id": "72c5af2e-b1cc-4f02-a361-9ac4217632dd",
   "metadata": {},
   "outputs": [],
   "source": []
  },
  {
   "cell_type": "code",
   "execution_count": 5,
   "id": "d6d962bd-8b8e-40df-a2d1-9d7cfaf281ea",
   "metadata": {},
   "outputs": [],
   "source": [
    "def dataframe_to_treenode(dataframe):\n",
    "    #if 'node' not in dataframe.columns:\n",
    "       # df[column_name] = default_value\n",
    "    root_id = dataframe.loc[dataframe[\"parent\"] == -1,\"node\"].values[0]\n",
    "    root_name = dataframe.loc[dataframe[\"parent\"] == -1,\"name\"].values[0]\n",
    "    \n",
    "    root = TreeNode(name = root_name) if root_name != 'None' else TreeNode()\n",
    "    root.id = root_id\n",
    "    dictionary_1 = {root.id:root}\n",
    "    \n",
    "    list_1 = dataframe['parent'].unique()\n",
    "    list_2 = []\n",
    "    \n",
    "    for x in list_1:\n",
    "        if x==-1:\n",
    "            continue\n",
    "        else:\n",
    "            l2 = dataframe.loc[dataframe.parent == x,['parent','node','name','length']].values.tolist()\n",
    "            for y in l2:\n",
    "                if y[2] != 'None': # name does not equal None\n",
    "                    node_name = y[2]\n",
    "                    if pd.isna(y[3]): # if length does not equal Nan\n",
    "                        node = TreeNode(name = node_name)\n",
    "                        node.id = y[1]\n",
    "                        dictionary_1[node.id] = node\n",
    "                        #print(dictionary_1[y[0]])\n",
    "                        dictionary_1[y[0]].append(node)\n",
    "                    else:\n",
    "                        node_length = float(y[3])\n",
    "                        node = TreeNode(name = node_name,length = node_length)\n",
    "                        node.id = y[1]\n",
    "                        dictionary_1[node.id] = node\n",
    "                        #print(dictionary_1[y[0]])\n",
    "                        dictionary_1[y[0]].append(node)\n",
    "                else: # if name = None\n",
    "                    if pd.isna(y[3]): # if length = Nan\n",
    "                        node = TreeNode()\n",
    "                        node.id = y[1]\n",
    "                        dictionary_1[node.id] = node\n",
    "                        #print(dictionary_1[y[0]])\n",
    "                        dictionary_1[y[0]].append(node)\n",
    "                    else: # if length does not equal Nan\n",
    "                        node_length = float(y[3])\n",
    "                        node = TreeNode(length = node_length)\n",
    "                        node.id = y[1]\n",
    "                        dictionary_1[node.id] = node\n",
    "                        #print(dictionary_1[y[0]])\n",
    "                        dictionary_1[y[0]].append(node)\n",
    "\n",
    "    return root"
   ]
  },
  {
   "cell_type": "code",
   "execution_count": null,
   "id": "30a73593-78bf-44b4-9a9f-3aa246fd880b",
   "metadata": {},
   "outputs": [],
   "source": []
  },
  {
   "cell_type": "code",
   "execution_count": 6,
   "id": "7bd14ec6-7198-4e5b-9ad8-fd3338d08072",
   "metadata": {},
   "outputs": [
    {
     "name": "stderr",
     "output_type": "stream",
     "text": [
      "test_count_tips (__main__.unit_test_dataframe_to_treenode.test_count_tips) ... ok\n",
      "test_root (__main__.unit_test_dataframe_to_treenode.test_root) ... ok\n",
      "test_tip (__main__.unit_test_dataframe_to_treenode.test_tip) ... ok\n",
      "\n",
      "----------------------------------------------------------------------\n",
      "Ran 3 tests in 0.250s\n",
      "\n",
      "OK\n"
     ]
    },
    {
     "data": {
      "text/plain": [
       "<unittest.main.TestProgram at 0x147ed3e30>"
      ]
     },
     "execution_count": 6,
     "metadata": {},
     "output_type": "execute_result"
    }
   ],
   "source": [
    "from unittest import TestCase\n",
    "class unit_test_dataframe_to_treenode(TestCase):\n",
    "\n",
    "    def setUp(self):\n",
    "        node_a = TreeNode('a')\n",
    "        node_b = TreeNode('b')\n",
    "        node_c = TreeNode('c')\n",
    "        node_d = TreeNode('d')\n",
    "        node_e = TreeNode('e')\n",
    "        node_a.append(node_b)\n",
    "        node_b.append(node_c)\n",
    "        node_b.append(node_d)\n",
    "        node_a.append(node_e)\n",
    "        self.TreeRoot = node_a\n",
    "    #\n",
    "    #          /c\n",
    "    #          |\n",
    "    #      /b--|\n",
    "    #      |   |\n",
    "    #--a---|   \\d\n",
    "    #      |\n",
    "    #      \\e\n",
    "\n",
    "        list_df = [{'parent':-1,'node':1,'name':'a','length':None},\n",
    "                   {'parent':1,'node':2,'name':'b','length':None},\n",
    "                   {'parent':2,'node':3,'name':'c','length':None},\n",
    "                   {'parent':2,'node':4,'name':'d','length':None},\n",
    "                   {'parent':1,'node':5,'name':'e','length':None}\n",
    "                  ]\n",
    "        data_frame = pd.DataFrame(data=list_df)\n",
    "        self.test_tree = dataframe_to_treenode(data_frame)\n",
    "        #self.expected_tree = skbio.TreeNode.read('85_otus.tree', format='newick')\n",
    "        #observed_tree = treenode_to_dataframe(self.expected_tree)\n",
    "        #self.observed_tree = dataframe_to_treenode(observed_tree)\n",
    "\n",
    "    def test_count_tips(self):\n",
    "        real_tree_tips = 3\n",
    "        test_tree_tips = self.test_tree.count(tips = True)\n",
    "        self.assertEqual(test_tree_tips,real_tree_tips)\n",
    "\n",
    "    def test_root(self):\n",
    "        real_root = 'a'\n",
    "        test_tree_root = self.test_tree.root().name\n",
    "        self.assertEqual(test_tree_root,real_root)\n",
    "\n",
    "    def test_tip(self):\n",
    "        real_tips = {'c','d','e'}\n",
    "        #test_tree_tips = list(self.test_tree.tips())\n",
    "        est_tree_tips = {n.name for n in self.test_tree.tips()}\n",
    "        self.assertEqual(real_tips,est_tree_tips)\n",
    "        \n",
    "    \n",
    "        #print(self.test_tree.ascii_art())\n",
    "\n",
    "    '''\n",
    "    def test_rfd(self):\n",
    "        #self.expected_tree.assign_ids()\n",
    "        #print(type(self.expected_tree))\n",
    "        self.assertEqual(self.expected_tree.compare_rfd(self.observed_tree), 0.0)\n",
    "        #print(self.expected_tree)\n",
    "        \n",
    "        \n",
    "    def test_tip_distance(self):\n",
    "        self.expected_tree.assign_ids()\n",
    "        self.assertEqual(self.expected_tree.compare_tip_distances(self.observed_tree,sample = 1000), 0.0) \n",
    "    \n",
    "    def test_paths(self):\n",
    "        expeted_tips = {expeted_tips for expeted_tips in self.expected_tree.tips()}\n",
    "        observed_tips = {observed_tips for observed_tips in self.observed_tree.tips()}\n",
    "        if expeted_tips != observed_tips:\n",
    "            self.assertEqual(0,1)\n",
    "        for exp_tips in expeted_tips:\n",
    "            e_tips = self.expected_tree.find(exp_tips)\n",
    "            o_tips = self.observed_tree.find(exp_tips)\n",
    "            ancestor_exp = [node.name for node in e_tips.ancestors()]\n",
    "            ancestor_obs = [node.name for node in o_tips.ancestors()]\n",
    "            if ancestor_exp != ancestor_obs:\n",
    "                self.assertEqual(0,1)\n",
    "        self.assertEqual(1,1)\n",
    "    '''\n",
    "#unittest.main()\n",
    "unittest.main(argv=[''], verbosity=2, exit=False)"
   ]
  },
  {
   "cell_type": "code",
   "execution_count": 16,
   "id": "01a0bdf4-b361-4c9b-995c-6955534f39da",
   "metadata": {},
   "outputs": [
    {
     "name": "stderr",
     "output_type": "stream",
     "text": [
      "test_count_tips (__main__.unit_test_dataframe_to_treenode.test_count_tips) ... ok\n",
      "test_paths (__main__.unit_test_dataframe_to_treenode.test_paths) ... ok\n",
      "test_rfd (__main__.unit_test_dataframe_to_treenode.test_rfd) ... ok\n",
      "test_root (__main__.unit_test_dataframe_to_treenode.test_root) ... ok\n",
      "test_tip (__main__.unit_test_dataframe_to_treenode.test_tip) ... ok\n",
      "test_tip_distance (__main__.unit_test_dataframe_to_treenode.test_tip_distance) ... /Users/shebinsam/Desktop/knight_lab/env/lib/python3.12/site-packages/skbio/tree/_tree.py:3287: RepresentationWarning: `TreeNode.tip_tip_distances`: Node with name 'k__Bacteria' does not have an associated length, so a length of 0.0 will be used.\n",
      "  warn(\n",
      "ok\n",
      "\n",
      "----------------------------------------------------------------------\n",
      "Ran 6 tests in 20.600s\n",
      "\n",
      "OK\n"
     ]
    },
    {
     "data": {
      "text/plain": [
       "<unittest.main.TestProgram at 0x118d33da0>"
      ]
     },
     "execution_count": 16,
     "metadata": {},
     "output_type": "execute_result"
    }
   ],
   "source": [
    "class unit_test_dataframe_to_treenode(TestCase):\n",
    "\n",
    "    def setUp(self):\n",
    "        node_a = TreeNode('a')\n",
    "        node_b = TreeNode('b')\n",
    "        node_c = TreeNode('c')\n",
    "        node_d = TreeNode('d')\n",
    "        node_e = TreeNode('e')\n",
    "        node_a.append(node_b)\n",
    "        node_b.append(node_c)\n",
    "        node_b.append(node_d)\n",
    "        node_a.append(node_e)\n",
    "        self.TreeRoot = node_a\n",
    "        #\n",
    "        #          /c\n",
    "        #          |\n",
    "        #      /b--|\n",
    "        #      |   |\n",
    "        # --a---|   \\d\n",
    "        #      |\n",
    "        #      \\e\n",
    "\n",
    "        list_df = [{'parent': -1, 'node': 1, 'name': 'a', 'length': None},\n",
    "                   {'parent': 1, 'node': 2, 'name': 'b', 'length': None},\n",
    "                   {'parent': 2, 'node': 3, 'name': 'c', 'length': None},\n",
    "                   {'parent': 2, 'node': 4, 'name': 'd', 'length': None},\n",
    "                   {'parent': 1, 'node': 5, 'name': 'e', 'length': None}\n",
    "                   ]\n",
    "\n",
    "        self.expected_tree = skbio.TreeNode.read('85_otus.tree', format='newick')\n",
    "        observed_tree = treenode_to_dataframe(self.expected_tree)\n",
    "        self.observed_tree = dataframe_to_treenode(observed_tree)\n",
    "    \n",
    "    def test_count_tips(self):\n",
    "        real_tree_tips = self.expected_tree.count(tips=True)\n",
    "        test_tree_tips = self.observed_tree.count(tips=True)\n",
    "        self.assertEqual(test_tree_tips, real_tree_tips)\n",
    "\n",
    "    def test_root(self):\n",
    "        real_root = self.expected_tree.root().name\n",
    "        test_tree_root = self.observed_tree.root().name\n",
    "        self.assertEqual(test_tree_root, real_root)\n",
    "\n",
    "    def test_tip(self):\n",
    "        real_tips = {n.name for n in self.expected_tree.tips()}\n",
    "        # test_tree_tips = list(self.test_tree.tips())\n",
    "        est_tree_tips = {n.name for n in self.observed_tree.tips()}\n",
    "        self.assertEqual(real_tips, est_tree_tips)\n",
    "\n",
    "        # print(self.test_tree.ascii_art())\n",
    "\n",
    "\n",
    "    def test_rfd(self):\n",
    "        #self.expected_tree.assign_ids()\n",
    "        #print(type(self.expected_tree))\n",
    "        self.assertEqual(self.expected_tree.compare_rfd(self.observed_tree), 0.0)\n",
    "        #print(self.expected_tree)\n",
    "\n",
    "\n",
    "    def test_tip_distance(self):\n",
    "        self.expected_tree.assign_ids()\n",
    "        self.assertEqual(self.expected_tree.compare_tip_distances(self.observed_tree,sample = 1000), 0.0) \n",
    "    \n",
    "    def test_paths(self):\n",
    "        observed_tips = {tip.name for tip in self.observed_tree.tips()}\n",
    "        #expeted_tips = {expeted_tips for expeted_tips in self.expected_tree.tips()}\n",
    "        #observed_tips = {observed_tips for observed_tips in self.observed_tree.tips()}\n",
    "        expected_tips = {tip.name for tip in self.expected_tree.tips()}\n",
    "        if expected_tips != observed_tips:\n",
    "            self.assertEqual(0,1)\n",
    "        for exp_tips in expected_tips:\n",
    "            e_tips = self.expected_tree.find(exp_tips)\n",
    "            o_tips = self.observed_tree.find(exp_tips)\n",
    "            ancestor_exp = [node.name for node in e_tips.ancestors()]\n",
    "            ancestor_obs = [node.name for node in o_tips.ancestors()]\n",
    "            if ancestor_exp != ancestor_obs:\n",
    "                self.assertEqual(0,1)\n",
    "        self.assertEqual(1,1)\n",
    "    \n",
    "\n",
    "\n",
    "# unittest.main()\n",
    "unittest.main(argv=[''], verbosity=2, exit=False)"
   ]
  },
  {
   "cell_type": "code",
   "execution_count": 13,
   "id": "9b5a0fce-12bc-4a0b-a12e-3bce54620e33",
   "metadata": {},
   "outputs": [
    {
     "name": "stderr",
     "output_type": "stream",
     "text": [
      "test_count_tips (__main__.unit_test_dataframe_to_treenode.test_count_tips) ... ok\n",
      "test_root (__main__.unit_test_dataframe_to_treenode.test_root) ... ok\n",
      "test_tip (__main__.unit_test_dataframe_to_treenode.test_tip) ... ok\n",
      "test_node (__main__.unit_test_treenode_to_dataframe.test_node) ... ok\n",
      "test_node_size (__main__.unit_test_treenode_to_dataframe.test_node_size) ... ok\n",
      "test_parent (__main__.unit_test_treenode_to_dataframe.test_parent) ... ok\n",
      "test_parent_size (__main__.unit_test_treenode_to_dataframe.test_parent_size) ... ok\n",
      "\n",
      "----------------------------------------------------------------------\n",
      "Ran 7 tests in 0.107s\n",
      "\n",
      "OK\n"
     ]
    },
    {
     "data": {
      "text/plain": [
       "<unittest.main.TestProgram at 0x136d01be0>"
      ]
     },
     "execution_count": 13,
     "metadata": {},
     "output_type": "execute_result"
    }
   ],
   "source": [
    "class unit_test_treenode_to_dataframe(TestCase):\n",
    "    \n",
    "    def setUp(self):\n",
    "        node_a = TreeNode('a')\n",
    "        self.test_tree = node_a\n",
    "        node_b = TreeNode('b')\n",
    "        node_c = TreeNode('c')\n",
    "        node_d = TreeNode('d')\n",
    "        node_e = TreeNode('e')\n",
    "        node_a.append(node_b)\n",
    "        node_b.append(node_c)\n",
    "        node_b.append(node_d)\n",
    "        node_a.append(node_e)\n",
    "        self.TreeRoot = node_a\n",
    "    #\n",
    "    #          /c\n",
    "    #          |\n",
    "    #      /b--|\n",
    "    #      |   |\n",
    "    #--a---|   \\d\n",
    "    #      |\n",
    "    #      \\e\n",
    "\n",
    "        node_a.assign_ids()\n",
    "        self.data_frame = treenode_to_dataframe(node_a)\n",
    "        \n",
    "        self.parent_list = []\n",
    "        self.node_list = []\n",
    "        for node in node_a.traverse(include_self = True):\n",
    "            self.parent_list.append(node.parent.id if node.parent is not None else -1)\n",
    "            self.node_list.append(node.id)\n",
    "        \n",
    "            \n",
    "\n",
    "    def test_parent(self):\n",
    "        test_parent_list = [x for x in self.data_frame['parent']]\n",
    "        self.assertEqual(test_parent_list,self.parent_list)\n",
    "\n",
    "    def test_node(self):\n",
    "        test_node_list = [y for y in self.data_frame['node']]\n",
    "        self.assertEqual(self.node_list,test_node_list)\n",
    "    \n",
    "    def test_parent_size(self):\n",
    "        parent_len = len(self.data_frame['parent'])\n",
    "        self.assertEqual(parent_len,5)\n",
    "        \n",
    "    def test_node_size(self):\n",
    "        node_len = len(self.data_frame['node'])\n",
    "        self.assertEqual(node_len,5)\n",
    "    \n",
    "                          \n",
    "unittest.main(argv=[''], verbosity=2, exit=False)"
   ]
  },
  {
   "cell_type": "markdown",
   "id": "3a01c9e9-a277-49ed-9d0a-9d1c759b131c",
   "metadata": {},
   "source": [
    "## Test for TreeNode to DataFrame"
   ]
  },
  {
   "cell_type": "code",
   "execution_count": 69,
   "id": "9c137495-95fc-438c-a54c-b7c3a66f3f9b",
   "metadata": {},
   "outputs": [],
   "source": [
    "node_a = TreeNode()\n",
    "node_b = TreeNode(name ='b', length = 2)\n",
    "node_c = TreeNode(name = 'c', length = 1)\n",
    "node_d = TreeNode('d')\n",
    "node_e = TreeNode(length = 1)\n",
    "node_a.append(node_b)\n",
    "node_b.append(node_c)\n",
    "node_b.append(node_d)\n",
    "node_a.append(node_e)\n",
    "data_frame = treenode_to_dataframe(node_a)"
   ]
  },
  {
   "cell_type": "code",
   "execution_count": 70,
   "id": "9c44c146-d963-4645-841e-da8d882d1bef",
   "metadata": {},
   "outputs": [
    {
     "name": "stdout",
     "output_type": "stream",
     "text": [
      "                    /-c\n",
      "          /b-------|\n",
      "---------|          \\-d\n",
      "         |\n",
      "          \\-\n"
     ]
    }
   ],
   "source": [
    "print(node_a.ascii_art())"
   ]
  },
  {
   "cell_type": "code",
   "execution_count": 71,
   "id": "6aee96d0-e701-41ac-8d18-f745adaf30a5",
   "metadata": {},
   "outputs": [
    {
     "data": {
      "text/html": [
       "<div>\n",
       "<style scoped>\n",
       "    .dataframe tbody tr th:only-of-type {\n",
       "        vertical-align: middle;\n",
       "    }\n",
       "\n",
       "    .dataframe tbody tr th {\n",
       "        vertical-align: top;\n",
       "    }\n",
       "\n",
       "    .dataframe thead th {\n",
       "        text-align: right;\n",
       "    }\n",
       "</style>\n",
       "<table border=\"1\" class=\"dataframe\">\n",
       "  <thead>\n",
       "    <tr style=\"text-align: right;\">\n",
       "      <th></th>\n",
       "      <th>parent</th>\n",
       "      <th>node</th>\n",
       "      <th>name</th>\n",
       "      <th>length</th>\n",
       "    </tr>\n",
       "  </thead>\n",
       "  <tbody>\n",
       "    <tr>\n",
       "      <th>0</th>\n",
       "      <td>-1</td>\n",
       "      <td>4</td>\n",
       "      <td>None</td>\n",
       "      <td>NaN</td>\n",
       "    </tr>\n",
       "    <tr>\n",
       "      <th>1</th>\n",
       "      <td>4</td>\n",
       "      <td>2</td>\n",
       "      <td>b</td>\n",
       "      <td>2.0</td>\n",
       "    </tr>\n",
       "    <tr>\n",
       "      <th>2</th>\n",
       "      <td>2</td>\n",
       "      <td>0</td>\n",
       "      <td>c</td>\n",
       "      <td>1.0</td>\n",
       "    </tr>\n",
       "    <tr>\n",
       "      <th>3</th>\n",
       "      <td>2</td>\n",
       "      <td>1</td>\n",
       "      <td>d</td>\n",
       "      <td>NaN</td>\n",
       "    </tr>\n",
       "    <tr>\n",
       "      <th>4</th>\n",
       "      <td>4</td>\n",
       "      <td>3</td>\n",
       "      <td>None</td>\n",
       "      <td>1.0</td>\n",
       "    </tr>\n",
       "  </tbody>\n",
       "</table>\n",
       "</div>"
      ],
      "text/plain": [
       "   parent  node  name  length\n",
       "0      -1     4  None     NaN\n",
       "1       4     2     b     2.0\n",
       "2       2     0     c     1.0\n",
       "3       2     1     d     NaN\n",
       "4       4     3  None     1.0"
      ]
     },
     "execution_count": 71,
     "metadata": {},
     "output_type": "execute_result"
    }
   ],
   "source": [
    "data_frame"
   ]
  },
  {
   "cell_type": "code",
   "execution_count": 14,
   "id": "be915d50-c672-4482-a6a5-23632e1606bf",
   "metadata": {},
   "outputs": [
    {
     "data": {
      "text/plain": [
       "numpy.float64"
      ]
     },
     "execution_count": 14,
     "metadata": {},
     "output_type": "execute_result"
    }
   ],
   "source": [
    "type(data_frame['length'][0])"
   ]
  },
  {
   "cell_type": "code",
   "execution_count": 15,
   "id": "75fda766-e599-4deb-9fea-e8cfde493d9f",
   "metadata": {},
   "outputs": [
    {
     "data": {
      "text/plain": [
       "False"
      ]
     },
     "execution_count": 15,
     "metadata": {},
     "output_type": "execute_result"
    }
   ],
   "source": [
    "data_frame['length'][0] == float('NaN')"
   ]
  },
  {
   "cell_type": "code",
   "execution_count": 16,
   "id": "47e7539e-c48e-4540-ae34-eee4ef38b644",
   "metadata": {},
   "outputs": [
    {
     "data": {
      "text/plain": [
       "True"
      ]
     },
     "execution_count": 16,
     "metadata": {},
     "output_type": "execute_result"
    }
   ],
   "source": [
    "pd.isna(data_frame['length'][0])"
   ]
  },
  {
   "cell_type": "code",
   "execution_count": 17,
   "id": "a6c94bbc-6560-4398-956f-a642965b40f4",
   "metadata": {},
   "outputs": [
    {
     "data": {
      "text/plain": [
       "NoneType"
      ]
     },
     "execution_count": 17,
     "metadata": {},
     "output_type": "execute_result"
    }
   ],
   "source": [
    "type(data_frame['name'][0])"
   ]
  },
  {
   "cell_type": "code",
   "execution_count": 18,
   "id": "b59d60b0-55ae-4882-bac4-b861952f8045",
   "metadata": {},
   "outputs": [
    {
     "data": {
      "text/plain": [
       "True"
      ]
     },
     "execution_count": 18,
     "metadata": {},
     "output_type": "execute_result"
    }
   ],
   "source": [
    "data_frame['name'][0] == None"
   ]
  },
  {
   "cell_type": "code",
   "execution_count": 81,
   "id": "f51e0152-ea15-4aec-bb9b-f820aee6f9ad",
   "metadata": {},
   "outputs": [
    {
     "data": {
      "text/plain": [
       "True"
      ]
     },
     "execution_count": 81,
     "metadata": {},
     "output_type": "execute_result"
    }
   ],
   "source": [
    "pd.isna(data_frame['name'][0])"
   ]
  },
  {
   "cell_type": "code",
   "execution_count": 75,
   "id": "b60655d4-d4a8-4edc-88f7-0a987a31c475",
   "metadata": {},
   "outputs": [
    {
     "name": "stdout",
     "output_type": "stream",
     "text": [
      "2.0\n",
      "1.0\n",
      "1.0\n",
      "nan\n"
     ]
    }
   ],
   "source": [
    "a = dataframe_to_treenode(data_frame)"
   ]
  },
  {
   "cell_type": "code",
   "execution_count": 76,
   "id": "2424c1a1-e37a-49d6-bd36-7d99c2e17f66",
   "metadata": {},
   "outputs": [
    {
     "name": "stdout",
     "output_type": "stream",
     "text": [
      "                    /-c\n",
      "          /b-------|\n",
      "---------|          \\-d\n",
      "         |\n",
      "          \\-\n"
     ]
    }
   ],
   "source": [
    "print(a.ascii_art())"
   ]
  },
  {
   "cell_type": "code",
   "execution_count": 77,
   "id": "5ffaff21-4253-4162-8430-eabdf7c62259",
   "metadata": {},
   "outputs": [
    {
     "name": "stdout",
     "output_type": "stream",
     "text": [
      "3\n"
     ]
    }
   ],
   "source": [
    "print(a.count(tips= True))"
   ]
  },
  {
   "cell_type": "code",
   "execution_count": null,
   "id": "109bb33a-5872-4e91-be0e-7888e9969a4c",
   "metadata": {},
   "outputs": [],
   "source": []
  }
 ],
 "metadata": {
  "kernelspec": {
   "display_name": "Python 3 (ipykernel)",
   "language": "python",
   "name": "python3"
  },
  "language_info": {
   "codemirror_mode": {
    "name": "ipython",
    "version": 3
   },
   "file_extension": ".py",
   "mimetype": "text/x-python",
   "name": "python",
   "nbconvert_exporter": "python",
   "pygments_lexer": "ipython3",
   "version": "3.12.4"
  }
 },
 "nbformat": 4,
 "nbformat_minor": 5
}
